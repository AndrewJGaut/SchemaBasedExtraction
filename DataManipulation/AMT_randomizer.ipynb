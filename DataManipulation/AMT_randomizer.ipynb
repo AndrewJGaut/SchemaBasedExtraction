{
 "cells": [
  {
   "cell_type": "code",
   "execution_count": 29,
   "metadata": {},
   "outputs": [
    {
     "data": {
      "text/plain": [
       "[array([32, 21, 16, 36, 28]),\n",
       " array([ 8, 37,  0, 23, 12]),\n",
       " array([33, 38, 24, 40, 10]),\n",
       " array([44, 34, 29, 47, 45]),\n",
       " array([27,  6, 20, 26, 42]),\n",
       " array([11,  1, 25, 14, 15]),\n",
       " array([30, 49, 19,  4, 22]),\n",
       " array([43,  9,  7, 39, 35]),\n",
       " array([41,  5, 31, 18,  2]),\n",
       " array([13, 46, 17, 48,  3])]"
      ]
     },
     "execution_count": 29,
     "metadata": {},
     "output_type": "execute_result"
    }
   ],
   "source": [
    "import numpy as np\n",
    "\n",
    "r = np.random.permutation(50)\n",
    "r = np.split(r,10)\n",
    "\n",
    "r2 = np.random.permutation(50)\n",
    "r2 = np.split(r2,10)\n",
    "\n",
    "r2"
   ]
  },
  {
   "cell_type": "code",
   "execution_count": 17,
   "metadata": {},
   "outputs": [],
   "source": [
    "import xlwt \n",
    "from xlwt import Workbook \n",
    "import xlrd\n",
    "\n",
    "data = xlrd.open_workbook('AMT_pilot.xlsx')\n",
    "Md = data.sheet_by_index(0)\n",
    "Fd = data.sheet_by_index(1)"
   ]
  },
  {
   "cell_type": "code",
   "execution_count": 30,
   "metadata": {},
   "outputs": [],
   "source": [
    "\n",
    "wb = Workbook()\n",
    "\n",
    "s1 = wb.add_sheet('Split 1')\n",
    "s2 = wb.add_sheet('Split 2')\n",
    "s3 = wb.add_sheet('Split 3')\n",
    "s4 = wb.add_sheet('Split 4')\n",
    "s5 = wb.add_sheet('Split 5')\n",
    "s6 = wb.add_sheet('Split 6')\n",
    "s7 = wb.add_sheet('Split 7')\n",
    "s8 = wb.add_sheet('Split 8')\n",
    "s9 = wb.add_sheet('Split 9')\n",
    "s10 = wb.add_sheet('Split 10')\n",
    "\n",
    "S = [s1, s2, s3, s4, s5, s6, s7, s8, s9, s10]\n",
    "\n",
    "for s in range(0,10):\n",
    "    for i in range(0, 5):\n",
    "        row = Md.row(r[s][i])\n",
    "    #     print(row[0])\n",
    "        for y in range(0,3):\n",
    "#             print(row[y])\n",
    "            S[s].write(i, y, row[y].value)\n",
    "\n",
    "for s in range(0,10):\n",
    "    for i in range(0, 5):\n",
    "        row = Fd.row(r2[s][i])\n",
    "        for y in range(0,3):\n",
    "            S[s].write(i+5, y, row[y].value)"
   ]
  },
  {
   "cell_type": "code",
   "execution_count": 32,
   "metadata": {},
   "outputs": [],
   "source": [
    "# import openpyxl\n",
    "# workbook=openpyxl.load_workbook('AMT_split.xls')\n",
    "    \n",
    "wb.save(\"AMT_split.xls\")"
   ]
  }
 ],
 "metadata": {
  "kernelspec": {
   "display_name": "Python 3",
   "language": "python",
   "name": "python3"
  },
  "language_info": {
   "codemirror_mode": {
    "name": "ipython",
    "version": 3
   },
   "file_extension": ".py",
   "mimetype": "text/x-python",
   "name": "python",
   "nbconvert_exporter": "python",
   "pygments_lexer": "ipython3",
   "version": "3.7.0"
  }
 },
 "nbformat": 4,
 "nbformat_minor": 2
}
