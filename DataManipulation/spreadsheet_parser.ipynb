{
 "cells": [
  {
   "cell_type": "code",
   "execution_count": 101,
   "metadata": {},
   "outputs": [],
   "source": [
    "import xlrd\n",
    "\n",
    "workbook = xlrd.open_workbook('hypernyms_dataset.xlsx')\n",
    "sheet = workbook.sheet_by_index(0)\n",
    "sheetF = workbook.sheet_by_index(1)"
   ]
  },
  {
   "cell_type": "code",
   "execution_count": 102,
   "metadata": {},
   "outputs": [
    {
     "name": "stdout",
     "output_type": "stream",
     "text": [
      "cols:  5\n",
      "rows:  11633\n",
      "cols:  5\n",
      "rows:  7676\n"
     ]
    }
   ],
   "source": [
    "print('cols: ', sheet.ncols)\n",
    "print('rows: ', sheet.nrows)\n",
    "\n",
    "print('cols: ', sheetF.ncols)\n",
    "print('rows: ', sheetF.nrows)"
   ]
  },
  {
   "cell_type": "code",
   "execution_count": 49,
   "metadata": {},
   "outputs": [],
   "source": [
    "sheet.cell_value(1,0)\n",
    "attributes = ('hypernym', 'spouse', 'birthDate', 'birthPlace')"
   ]
  },
  {
   "cell_type": "code",
   "execution_count": 92,
   "metadata": {},
   "outputs": [
    {
     "data": {
      "image/png": "[encoded data removed]",
      "text/plain": [
       "<Figure size 432x288 with 1 Axes>"
      ]
     },
     "metadata": {
      "needs_background": "light"
     },
     "output_type": "display_data"
    }
   ],
   "source": [
    "import collections\n",
    "import operator\n",
    "import matplotlib.pyplot as plt\n",
    "\n",
    "\n",
    "# MALE DATASET\n",
    "hypernyms = {}\n",
    "\n",
    "for rows in range(1, sheet.nrows):\n",
    "    e = sheet.cell_value(rows, 0)\n",
    "    h = sheet.cell_value(rows, 1)\n",
    "    if (e != ''):\n",
    "        if h in hypernyms.keys():\n",
    "            hypernyms[h] += 1\n",
    "        else:\n",
    "            hypernyms[h] = 1\n",
    "\n",
    "ordered = sorted(hypernyms.items(), key=operator.itemgetter(1))\n",
    "# ordered\n",
    "# sorted_dict = OrderedDict(sorted_ordered)\n",
    "\n",
    "H = {}\n",
    "\n",
    "for item in hypernyms:\n",
    "    if hypernyms[item] > 30:\n",
    "        H[item] = hypernyms[item]\n",
    "\n",
    "# H\n",
    "\n",
    "plt.bar(range(len(H)), list(H.values()), align='center')\n",
    "plt.xticks(range(len(H)), list(H.keys()), rotation = 'vertical')\n",
    "\n",
    "plt.show()"
   ]
  },
  {
   "cell_type": "code",
   "execution_count": 109,
   "metadata": {},
   "outputs": [
    {
     "data": {
      "image/png": "[encoded data removed]",
      "text/plain": [
       "<Figure size 432x288 with 1 Axes>"
      ]
     },
     "metadata": {
      "needs_background": "light"
     },
     "output_type": "display_data"
    }
   ],
   "source": [
    "# FEMALE DATASET\n",
    "\n",
    "hypernymsF = {}\n",
    "\n",
    "for rows in range(1, sheetF.nrows):\n",
    "    e = sheetF.cell_value(rows, 0)\n",
    "    h = sheetF.cell_value(rows, 1)\n",
    "    if (e != ''):\n",
    "        if h in hypernymsF.keys():\n",
    "            hypernymsF[h] += 1\n",
    "        else:\n",
    "            hypernymsF[h] = 1\n",
    "            \n",
    "# hypernymsF\n",
    "HF = {}\n",
    "\n",
    "for item in hypernymsF:\n",
    "    if hypernymsF[item] > 15:\n",
    "        HF[item] = hypernymsF[item]\n",
    "\n",
    "# HF\n",
    "\n",
    "plt.bar(range(len(HF)), list(HF.values()), align='center')\n",
    "plt.xticks(range(len(HF)), list(HF.keys()), rotation = 'vertical')\n",
    "\n",
    "plt.show()"
   ]
  },
  {
   "cell_type": "code",
   "execution_count": 59,
   "metadata": {},
   "outputs": [
    {
     "name": "stdout",
     "output_type": "stream",
     "text": [
      "hypernym 1\n",
      "spouse 1\n",
      "birthDate 1\n",
      "birthPlace 3\n"
     ]
    },
    {
     "data": {
      "text/plain": [
       "defaultdict(list,\n",
       "            {'hypernym': ['Lawyer', 1],\n",
       "             'spouse': ['Varsha Manohar', 1],\n",
       "             'birthDate': ['September 29, 1957', 1],\n",
       "             'birthPlace': ['Maharashtra', 3]})"
      ]
     },
     "execution_count": 59,
     "metadata": {},
     "output_type": "execute_result"
    }
   ],
   "source": [
    "from collections import defaultdict\n",
    "\n",
    "sentences = defaultdict(list)\n",
    "x, y, after = 1, 1, 5\n",
    "for i in range(1, 5):\n",
    "    count = 0\n",
    "    for j in range(y+1, after):\n",
    "        if (sheet.cell_value(j,i) != ''):\n",
    "            count += 1\n",
    "#         print(sheet.cell_value(j, i))\n",
    "    sentences[attributes[i-1]].append(sheet.cell_value(y, i))\n",
    "    sentences[attributes[i-1]].append(count)\n",
    "\n",
    "for s in sentences:\n",
    "    print(s, sentences[s][1])\n",
    "\n",
    "sentences"
   ]
  },
  {
   "cell_type": "code",
   "execution_count": null,
   "metadata": {},
   "outputs": [],
   "source": []
  }
 ],
 "metadata": {
  "kernelspec": {
   "display_name": "Python 3",
   "language": "python",
   "name": "python3"
  },
  "language_info": {
   "codemirror_mode": {
    "name": "ipython",
    "version": 3
   },
   "file_extension": ".py",
   "mimetype": "text/x-python",
   "name": "python",
   "nbconvert_exporter": "python",
   "pygments_lexer": "ipython3",
   "version": "3.7.0"
  }
 },
 "nbformat": 4,
 "nbformat_minor": 2
}
