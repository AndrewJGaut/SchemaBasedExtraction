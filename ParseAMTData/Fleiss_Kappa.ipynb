{
 "cells": [
  {
   "cell_type": "code",
   "execution_count": 5,
   "metadata": {},
   "outputs": [],
   "source": [
    "import xlrd\n",
    "\n",
    "wb = xlrd.open_workbook('FullStudyResults.xls')\n",
    "sheet = wb.sheet_by_index(0)"
   ]
  },
  {
   "cell_type": "code",
   "execution_count": 6,
   "metadata": {},
   "outputs": [
    {
     "name": "stdout",
     "output_type": "stream",
     "text": [
      "rows:  1384\n",
      "columns:  10\n"
     ]
    }
   ],
   "source": [
    "print(\"rows: \", sheet.nrows)\n",
    "print(\"columns: \", sheet.ncols)"
   ]
  },
  {
   "cell_type": "code",
   "execution_count": 76,
   "metadata": {},
   "outputs": [],
   "source": [
    "import xlwt\n",
    "from xlwt import Workbook\n",
    "workbook = Workbook()\n",
    "\n",
    "fleiss = workbook.add_sheet('Fleiss')\n",
    "\n",
    "fleiss.write(0,0, 'n_ij')\n",
    "fleiss.write(0,1, 'yes')\n",
    "fleiss.write(0,2, 'no')\n",
    "fleiss.write(0,3, 'P_i')\n",
    "\n",
    "\n",
    "totalYes, totalNo, totalpi = 0, 0, 0\n",
    "current = 1\n",
    "\n",
    "for row in range (1, sheet.nrows, 3):\n",
    "    for col in range (10):\n",
    "        yes, no = 0, 0\n",
    "        for i in range (3):\n",
    "            if (sheet.cell_value(row + i, col) == 'yes'):\n",
    "                yes += 1\n",
    "            elif (sheet.cell_value(row + i, col) == 'no'):\n",
    "                no += 1 # also count no's to account for empty values\n",
    "\n",
    "        responses = yes + no # not always 10\n",
    "                \n",
    "        if responses > 1:\n",
    "            fleiss.write(current, 0, row)\n",
    "            fleiss.write(current, 1, yes)\n",
    "            fleiss.write(current, 2, no)\n",
    "\n",
    "            totalYes += yes\n",
    "            totalNo += no\n",
    "            totalpi += p_i\n",
    "\n",
    "\n",
    "\n",
    "            p_i = (yes ** 2 + no ** 2 - responses)/(responses*(responses - 1))\n",
    "            fleiss.write(current, 3, round(p_i,2))\n",
    "        \n",
    "        current += 1\n",
    "\n",
    "nextRow = current + 1\n",
    "fleiss.write(nextRow, 0, 'Total')\n",
    "fleiss.write(nextRow, 1, totalYes)\n",
    "fleiss.write(nextRow, 2, totalNo)\n",
    "\n",
    "nextRow += 1\n",
    "peYes = totalYes / (sheet.nrows * 10 / 3)\n",
    "peNo = totalNo / (sheet.nrows * 10 / 3)\n",
    "\n",
    "fleiss.write(nextRow, 0, 'p_j')\n",
    "fleiss.write(nextRow, 1, peYes)\n",
    "fleiss.write(nextRow, 2, peNo)\n",
    "\n",
    "p_bar = totalpi / sheet.nrows * 10 / 3\n",
    "pe_bar = peYes ** 2 + peNo **2\n",
    "\n",
    "kappa = (p_bar - pe_bar) / (1 - pe_bar)"
   ]
  },
  {
   "cell_type": "code",
   "execution_count": null,
   "metadata": {},
   "outputs": [],
   "source": []
  },
  {
   "cell_type": "code",
   "execution_count": 77,
   "metadata": {},
   "outputs": [
    {
     "name": "stdout",
     "output_type": "stream",
     "text": [
      "peYes:  2.1164739884393065\n",
      "peNo:  0.8659682080924856\n"
     ]
    },
    {
     "data": {
      "text/plain": [
       "2.982442196531792"
      ]
     },
     "execution_count": 77,
     "metadata": {},
     "output_type": "execute_result"
    }
   ],
   "source": [
    "print(\"peYes: \", peYes)\n",
    "print(\"peNo: \", peNo) \n",
    "peYes + peNo # sum is a bit less than 1 due to missing samples"
   ]
  },
  {
   "cell_type": "code",
   "execution_count": 81,
   "metadata": {},
   "outputs": [
    {
     "name": "stdout",
     "output_type": "stream",
     "text": [
      "9764\n",
      "3995\n"
     ]
    }
   ],
   "source": [
    "print(totalYes)\n",
    "print(totalNo)"
   ]
  },
  {
   "cell_type": "code",
   "execution_count": 79,
   "metadata": {},
   "outputs": [
    {
     "name": "stdout",
     "output_type": "stream",
     "text": [
      "p_bar:  2.53323699421971\n",
      "pe_bar: 5.229363081167096\n",
      "kappa:  0.6374780398857097\n"
     ]
    }
   ],
   "source": [
    "print(\"p_bar: \", p_bar)\n",
    "print(\"pe_bar:\", pe_bar)\n",
    "print(\"kappa: \", kappa)"
   ]
  },
  {
   "cell_type": "code",
   "execution_count": 80,
   "metadata": {},
   "outputs": [],
   "source": [
    "workbook.save(\"FullStudyResults_FleissKappa.xls\")"
   ]
  }
 ],
 "metadata": {
  "kernelspec": {
   "display_name": "Python 3",
   "language": "python",
   "name": "python3"
  },
  "language_info": {
   "codemirror_mode": {
    "name": "ipython",
    "version": 3
   },
   "file_extension": ".py",
   "mimetype": "text/x-python",
   "name": "python",
   "nbconvert_exporter": "python",
   "pygments_lexer": "ipython3",
   "version": "3.7.0"
  }
 },
 "nbformat": 4,
 "nbformat_minor": 2
}
